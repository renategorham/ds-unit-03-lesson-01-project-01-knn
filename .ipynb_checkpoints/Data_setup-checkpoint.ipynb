{
 "cells": [
  {
   "cell_type": "markdown",
   "metadata": {},
   "source": [
    "# k-Nearest Neighbor by hand  \n",
    "# Data set-up"
   ]
  },
  {
   "cell_type": "markdown",
   "metadata": {},
   "source": [
    "##### Generic code  "
   ]
  },
  {
   "cell_type": "code",
   "execution_count": 1,
   "metadata": {},
   "outputs": [],
   "source": [
    "import matplotlib.pyplot as plt\n",
    "import seaborn as sns\n",
    "import pandas as pd\n",
    "import numpy as np"
   ]
  },
  {
   "cell_type": "markdown",
   "metadata": {},
   "source": [
    "##### Custom code"
   ]
  },
  {
   "cell_type": "code",
   "execution_count": 2,
   "metadata": {},
   "outputs": [],
   "source": [
    "import lib.read_csv_to_dict as rc  #reads csv to a list of dictionaries\n",
    "import lib.train_test as tt #splits data set into training and test sets\n",
    "import lib.normalize as normalize #normalizes and standardizes aspects\n",
    "import lib.my_knn as knn #calculate knn and write to csv"
   ]
  },
  {
   "cell_type": "markdown",
   "metadata": {},
   "source": [
    "##### Read csv to a list of dictionaries"
   ]
  },
  {
   "cell_type": "code",
   "execution_count": 3,
   "metadata": {},
   "outputs": [],
   "source": [
    "a = rc.csv_to_dict('data/wdbc.csv')"
   ]
  },
  {
   "cell_type": "markdown",
   "metadata": {},
   "source": [
    "##### Split data set to train and test sets"
   ]
  },
  {
   "cell_type": "code",
   "execution_count": 4,
   "metadata": {},
   "outputs": [],
   "source": [
    "c, d = tt.train_test(a,'diagnosis')"
   ]
  },
  {
   "cell_type": "markdown",
   "metadata": {},
   "source": [
    "##### Normalize and standardize aspects  \n",
    "The aspect chosen for this study are non-normal. In theory, points with larger aspect values will appear to have greater magnitudes, relative to points with smaller aspect values."
   ]
  },
  {
   "cell_type": "code",
   "execution_count": 5,
   "metadata": {},
   "outputs": [],
   "source": [
    "all_data, train, test = normalize.normalize(c, d, 'diagnosis',\n",
    "                                  'mean_radius', 'mean_concave_points')"
   ]
  },
  {
   "cell_type": "code",
   "execution_count": 6,
   "metadata": {},
   "outputs": [],
   "source": [
    "all_data = pd.DataFrame(all_data, columns=['class', 'a1', 'a2',\n",
    "                             'a1_1', 'a2_1', 'a1_T', 'a2_T',\n",
    "                             'aspect_1', 'aspect_2'])"
   ]
  },
  {
   "cell_type": "code",
   "execution_count": 7,
   "metadata": {},
   "outputs": [
    {
     "data": {
      "image/png": "[encoded data removed]",
      "text/plain": [
       "<Figure size 1080x360 with 2 Axes>"
      ]
     },
     "metadata": {},
     "output_type": "display_data"
    }
   ],
   "source": [
    "#set up figure\n",
    "plt.figure(figsize=(15,5))\n",
    "#set up histograms of data, by diagnosis.\n",
    "plt.subplot(121)\n",
    "plt.hist(all_data[all_data['class']=='M'].aspect_1,\n",
    "         color=(0.1, 0.2, 0.5, 0.3), label='Malignant')\n",
    "plt.hist(all_data[all_data['class']=='B'].aspect_1,\n",
    "         color=(0.3, 0.2, 0.5, 0.3),label='Benign')\n",
    "plt.title('Histogram of Mean Cell Radius\\nby Diagnosis')\n",
    "plt.xlabel('Mean Cell radius')\n",
    "plt.ylabel('Count')\n",
    "plt.legend()\n",
    "plt.grid()\n",
    "\n",
    "#histogram of mean concave points\n",
    "plt.subplot(122)\n",
    "plt.hist(all_data[all_data['class']=='M'].aspect_2,\n",
    "         color=(0.1, 0.2, 0.5, 0.3),label='Malignant')\n",
    "plt.hist(all_data[all_data['class']=='B'].aspect_1,\n",
    "         color=(0.3, 0.2, 0.5, 0.3),label='Benign')\n",
    "plt.title('Histogram of Mean Concave Points\\nby Diagnosis')\n",
    "plt.xlabel('Mean Concave Points')\n",
    "plt.ylabel('Count')\n",
    "plt.legend()\n",
    "plt.grid()\n",
    "plt.show()\n"
   ]
  },
  {
   "cell_type": "code",
   "execution_count": 8,
   "metadata": {},
   "outputs": [
    {
     "ename": "NameError",
     "evalue": "name 'df' is not defined",
     "output_type": "error",
     "traceback": [
      "\u001b[1;31m---------------------------------------------------------------------------\u001b[0m",
      "\u001b[1;31mNameError\u001b[0m                                 Traceback (most recent call last)",
      "\u001b[1;32m<ipython-input-8-816d5eb89477>\u001b[0m in \u001b[0;36m<module>\u001b[1;34m()\u001b[0m\n\u001b[0;32m      1\u001b[0m \u001b[0mnp\u001b[0m\u001b[1;33m.\u001b[0m\u001b[0mwarnings\u001b[0m\u001b[1;33m.\u001b[0m\u001b[0mfilterwarnings\u001b[0m\u001b[1;33m(\u001b[0m\u001b[1;34m'ignore'\u001b[0m\u001b[1;33m)\u001b[0m \u001b[1;31m#ignore warnings\u001b[0m\u001b[1;33m\u001b[0m\u001b[0m\n\u001b[0;32m      2\u001b[0m \u001b[1;31m#seabon facetgrid and kernel density estimation(kde) plot\u001b[0m\u001b[1;33m\u001b[0m\u001b[1;33m\u001b[0m\u001b[0m\n\u001b[1;32m----> 3\u001b[1;33m \u001b[0mg\u001b[0m \u001b[1;33m=\u001b[0m \u001b[0msns\u001b[0m\u001b[1;33m.\u001b[0m\u001b[0mFacetGrid\u001b[0m\u001b[1;33m(\u001b[0m\u001b[0mdf\u001b[0m\u001b[1;33m,\u001b[0m \u001b[0mhue\u001b[0m\u001b[1;33m=\u001b[0m\u001b[1;34m'class'\u001b[0m\u001b[1;33m,\u001b[0m \u001b[0mpalette\u001b[0m\u001b[1;33m=\u001b[0m\u001b[1;34m'RdBu'\u001b[0m\u001b[1;33m,\u001b[0m \u001b[0mheight\u001b[0m\u001b[1;33m=\u001b[0m\u001b[1;36m10\u001b[0m\u001b[1;33m)\u001b[0m\u001b[1;33m\u001b[0m\u001b[0m\n\u001b[0m\u001b[0;32m      4\u001b[0m \u001b[0mg\u001b[0m\u001b[1;33m.\u001b[0m\u001b[0mmap\u001b[0m\u001b[1;33m(\u001b[0m\u001b[0msns\u001b[0m\u001b[1;33m.\u001b[0m\u001b[0mkdeplot\u001b[0m\u001b[1;33m,\u001b[0m \u001b[1;34m'aspect_1'\u001b[0m\u001b[1;33m,\u001b[0m \u001b[1;34m'aspect_2'\u001b[0m\u001b[1;33m)\u001b[0m\u001b[1;33m\u001b[0m\u001b[0m\n\u001b[0;32m      5\u001b[0m \u001b[0mg\u001b[0m\u001b[1;33m.\u001b[0m\u001b[0madd_legend\u001b[0m\u001b[1;33m(\u001b[0m\u001b[1;33m)\u001b[0m\u001b[1;33m\u001b[0m\u001b[0m\n",
      "\u001b[1;31mNameError\u001b[0m: name 'df' is not defined"
     ]
    }
   ],
   "source": [
    "np.warnings.filterwarnings('ignore') #ignore warnings\n",
    "#seabon facetgrid and kernel density estimation(kde) plot\n",
    "g = sns.FacetGrid(all_data, hue='class', palette='RdBu', height=10)\n",
    "g.map(sns.kdeplot, 'aspect_1', 'aspect_2')\n",
    "g.add_legend()\n",
    "plt.title('Joint Distribution Density\\nof Factors by Diagnosis Class')\n",
    "plt.xlabel('Mean Cell Radius')\n",
    "plt.ylabel('Mean Concave Points')\n",
    "plt.grid()\n",
    "plt.show()"
   ]
  },
  {
   "cell_type": "markdown",
   "metadata": {},
   "source": [
    "##### Calculate magnitudes and k nearest neighbors  \n",
    "Since iterating through the data set can take some time, iteration is move to thid distinct notebook and the results are written to a csv file."
   ]
  },
  {
   "cell_type": "code",
   "execution_count": null,
   "metadata": {},
   "outputs": [],
   "source": [
    "df = knn.knn(train, test,'class', 'aspect_1', 'aspect_2', 'M', 'B')\n",
    "df"
   ]
  }
 ],
 "metadata": {
  "kernelspec": {
   "display_name": "Python 3",
   "language": "python",
   "name": "python3"
  },
  "language_info": {
   "codemirror_mode": {
    "name": "ipython",
    "version": 3
   },
   "file_extension": ".py",
   "mimetype": "text/x-python",
   "name": "python",
   "nbconvert_exporter": "python",
   "pygments_lexer": "ipython3",
   "version": "3.7.0"
  },
  "toc": {
   "base_numbering": 1,
   "nav_menu": {},
   "number_sections": true,
   "sideBar": true,
   "skip_h1_title": true,
   "title_cell": "",
   "title_sidebar": "Contents",
   "toc_cell": false,
   "toc_position": {},
   "toc_section_display": true,
   "toc_window_display": true
  }
 },
 "nbformat": 4,
 "nbformat_minor": 2
}
